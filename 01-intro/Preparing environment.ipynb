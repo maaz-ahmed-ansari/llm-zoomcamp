{
 "cells": [
  {
   "cell_type": "code",
   "execution_count": 13,
   "id": "4a6e7fbc-3690-4d2d-9c9e-565486c314f6",
   "metadata": {},
   "outputs": [],
   "source": [
    "import os\n",
    "import sys\n",
    "\n",
    "from openai import OpenAI"
   ]
  },
  {
   "cell_type": "code",
   "execution_count": 3,
   "id": "902199d7-01c2-41fe-9522-741e6953bd62",
   "metadata": {},
   "outputs": [],
   "source": [
    "client = OpenAI()"
   ]
  },
  {
   "cell_type": "code",
   "execution_count": 8,
   "id": "b0d0bf79-90d8-429a-9a24-dc1874d61743",
   "metadata": {},
   "outputs": [],
   "source": [
    "response = client.chat.completions.create(\n",
    "    model=\"gpt-4o-mini\",\n",
    "    messages=[{\"role\": \"user\", \"content\": \"is is too late to join the course?\"}]\n",
    ")"
   ]
  },
  {
   "cell_type": "code",
   "execution_count": 9,
   "id": "4c2b8cd2-16f7-4582-8c7f-b5391e18a8ca",
   "metadata": {},
   "outputs": [
    {
     "data": {
      "text/plain": [
       "ChatCompletion(id='chatcmpl-A7hD0KfVLUBcqVWeu68puzNckBcHX', choices=[Choice(finish_reason='stop', index=0, logprobs=None, message=ChatCompletionMessage(content=\"Whether it's too late to join a course depends on several factors, such as the specific course's enrollment deadlines, the institution offering it, and their policies. I recommend checking the course website or contacting the course administrator for the most accurate information. If you provide more details about the course, I might be able to offer more specific advice!\", refusal=None, role='assistant', function_call=None, tool_calls=None))], created=1726397754, model='gpt-4o-mini-2024-07-18', object='chat.completion', service_tier=None, system_fingerprint='fp_54e2f484be', usage=CompletionUsage(completion_tokens=67, prompt_tokens=16, total_tokens=83, completion_tokens_details=CompletionTokensDetails(reasoning_tokens=0)))"
      ]
     },
     "execution_count": 9,
     "metadata": {},
     "output_type": "execute_result"
    }
   ],
   "source": [
    "response"
   ]
  },
  {
   "cell_type": "code",
   "execution_count": 10,
   "id": "7213727c-bc1d-4d85-9ef8-3edae5acfa26",
   "metadata": {},
   "outputs": [
    {
     "data": {
      "text/plain": [
       "Choice(finish_reason='stop', index=0, logprobs=None, message=ChatCompletionMessage(content=\"Whether it's too late to join a course depends on several factors, such as the specific course's enrollment deadlines, the institution offering it, and their policies. I recommend checking the course website or contacting the course administrator for the most accurate information. If you provide more details about the course, I might be able to offer more specific advice!\", refusal=None, role='assistant', function_call=None, tool_calls=None))"
      ]
     },
     "execution_count": 10,
     "metadata": {},
     "output_type": "execute_result"
    }
   ],
   "source": [
    "response.choices[0]"
   ]
  },
  {
   "cell_type": "code",
   "execution_count": 12,
   "id": "22e986ff-8468-4003-8322-20e0f38db07b",
   "metadata": {},
   "outputs": [
    {
     "data": {
      "text/plain": [
       "\"Whether it's too late to join a course depends on several factors, such as the specific course's enrollment deadlines, the institution offering it, and their policies. I recommend checking the course website or contacting the course administrator for the most accurate information. If you provide more details about the course, I might be able to offer more specific advice!\""
      ]
     },
     "execution_count": 12,
     "metadata": {},
     "output_type": "execute_result"
    }
   ],
   "source": [
    "response.choices[0].message.content"
   ]
  },
  {
   "cell_type": "code",
   "execution_count": null,
   "id": "097b9e13-1571-45ff-9c62-7d8c6db13d72",
   "metadata": {},
   "outputs": [],
   "source": []
  }
 ],
 "metadata": {
  "kernelspec": {
   "display_name": "Python 3 (ipykernel)",
   "language": "python",
   "name": "python3"
  },
  "language_info": {
   "codemirror_mode": {
    "name": "ipython",
    "version": 3
   },
   "file_extension": ".py",
   "mimetype": "text/x-python",
   "name": "python",
   "nbconvert_exporter": "python",
   "pygments_lexer": "ipython3",
   "version": "3.12.1"
  }
 },
 "nbformat": 4,
 "nbformat_minor": 5
}
