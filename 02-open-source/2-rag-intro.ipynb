{
 "cells": [
  {
   "cell_type": "code",
   "execution_count": 1,
   "id": "96ba43ee-d295-45b5-b815-43077a42af78",
   "metadata": {},
   "outputs": [],
   "source": [
    "from openai import OpenAI"
   ]
  },
  {
   "cell_type": "code",
   "execution_count": 2,
   "id": "f91a4069-5f50-40be-92fa-1f78ba233928",
   "metadata": {},
   "outputs": [],
   "source": [
    "client = OpenAI(\n",
    "    base_url='http://localhost:11434/v1/',\n",
    "    api_key='ollama',\n",
    ")"
   ]
  },
  {
   "cell_type": "code",
   "execution_count": 5,
   "id": "3f947c69-8a00-404e-b422-cf8f956e1a11",
   "metadata": {},
   "outputs": [],
   "source": [
    "import json\n",
    "import minsearch\n",
    "\n",
    "from openai import OpenAI"
   ]
  },
  {
   "cell_type": "code",
   "execution_count": 6,
   "id": "8e264f00-0a39-4c8b-a16a-716358543bb5",
   "metadata": {},
   "outputs": [],
   "source": [
    "import requests \n",
    "\n",
    "docs_url = 'https://github.com/DataTalksClub/llm-zoomcamp/blob/main/01-intro/documents.json?raw=1'\n",
    "docs_response = requests.get(docs_url)\n",
    "documents_raw = docs_response.json()\n",
    "\n",
    "documents = []\n",
    "\n",
    "for course in documents_raw:\n",
    "    course_name = course['course']\n",
    "\n",
    "    for doc in course['documents']:\n",
    "        doc['course'] = course_name\n",
    "        documents.append(doc)"
   ]
  },
  {
   "cell_type": "code",
   "execution_count": 3,
   "id": "c66a52e3-ff03-4e96-9853-215c60fa47e0",
   "metadata": {},
   "outputs": [],
   "source": [
    "def build_prompt(query, search_results):\n",
    "    prompt_template = \"\"\"\n",
    "    You're a course teaching assistant. Answer the QUESTION based on the CONTEXT from the FAQ database. \n",
    "    Use only the facts from the CONTEXT when answering the QUESTION.\n",
    "    \n",
    "    QUESTION : {question}\n",
    "    \n",
    "    CONTEXT : {context}\n",
    "    \"\"\".strip()\n",
    "\n",
    "    context = \"\"\n",
    "\n",
    "    for doc in search_results:\n",
    "        context += f\"section: {doc['section']}\\nquestion: {doc['question']}\\nanswer: {doc['text']}\\n\\n\"\n",
    "\n",
    "    return prompt_template.format(question=query, context=context).strip()"
   ]
  },
  {
   "cell_type": "code",
   "execution_count": 4,
   "id": "0bab4746-181b-4e1f-b5be-9240c9ea6a35",
   "metadata": {},
   "outputs": [
    {
     "name": "stderr",
     "output_type": "stream",
     "text": [
      "/home/codespace/.local/lib/python3.12/site-packages/tqdm/auto.py:21: TqdmWarning: IProgress not found. Please update jupyter and ipywidgets. See https://ipywidgets.readthedocs.io/en/stable/user_install.html\n",
      "  from .autonotebook import tqdm as notebook_tqdm\n"
     ]
    }
   ],
   "source": [
    "from elasticsearch import Elasticsearch, exceptions\n",
    "from tqdm.auto import tqdm"
   ]
  },
  {
   "cell_type": "code",
   "execution_count": 5,
   "id": "d321996c-e974-4d9d-a591-7bab6fa75013",
   "metadata": {},
   "outputs": [],
   "source": [
    "def es_create_index_if_not_exists(es_client):\n",
    "    try:\n",
    "        index_settings = {\n",
    "            \"settings\": {\n",
    "                \"number_of_shards\": 1,\n",
    "                \"number_of_replicas\": 0\n",
    "            },\n",
    "            \"mappings\": {\n",
    "                \"properties\": {\n",
    "                    \"text\": {\"type\": \"text\"},\n",
    "                    \"section\": {\"type\": \"text\"},\n",
    "                    \"question\": {\"type\": \"text\"},\n",
    "                    \"course\": {\"type\": \"keyword\"} \n",
    "                }\n",
    "            }\n",
    "        }\n",
    "    \n",
    "        index_name = 'course-questions'\n",
    "        \n",
    "        es_client.indices.create(index=index_name, body=index_settings)\n",
    "        \n",
    "        for doc in tqdm(documents):\n",
    "            es_client.index(index=index_name, document=doc)\n",
    "\n",
    "    except exceptions.RequestError as ex:\n",
    "        if ex.error == 'resource_already_exists_exception':\n",
    "            pass # Index already exists. Ignore.\n",
    "        else: # Other exception - raise it\n",
    "            raise ex"
   ]
  },
  {
   "cell_type": "code",
   "execution_count": 6,
   "id": "a2a5ebd6-3867-4e02-922d-379af6ad7edb",
   "metadata": {},
   "outputs": [],
   "source": [
    "def elastic_search(query):\n",
    "    search_query = {\n",
    "        \"size\": 5,\n",
    "        \"query\": {\n",
    "            \"bool\": {\n",
    "                \"must\": {\n",
    "                    \"multi_match\": {\n",
    "                        \"query\": query,\n",
    "                        \"fields\": [\"question^3\", \"text\", \"section\"],\n",
    "                        \"type\": \"best_fields\"\n",
    "                    }\n",
    "                },\n",
    "                \"filter\": {\n",
    "                    \"term\": {\n",
    "                        \"course\": \"data-engineering-zoomcamp\"\n",
    "                    }\n",
    "                }\n",
    "            }\n",
    "        }\n",
    "    }\n",
    "\n",
    "    index_name = 'course-questions'\n",
    "    \n",
    "    res = es_client.search(index=index_name, body=search_query)\n",
    "\n",
    "    res_docs = []\n",
    "\n",
    "    for hit in res['hits']['hits']:\n",
    "        res_docs.append(hit['_source'])\n",
    "\n",
    "    return res_docs"
   ]
  },
  {
   "cell_type": "code",
   "execution_count": 7,
   "id": "9b314689-a5e8-40fb-8224-52cce84b4c42",
   "metadata": {},
   "outputs": [],
   "source": [
    "def llm(prompt):\n",
    "    response = client.chat.completions.create(\n",
    "        model='phi3',\n",
    "        messages=[{\"role\": \"user\", \"content\": prompt}]\n",
    "    )\n",
    "    \n",
    "    return response.choices[0].message.content"
   ]
  },
  {
   "cell_type": "code",
   "execution_count": 8,
   "id": "90847ebb-f2b5-4a4b-89ff-4dc222b40e01",
   "metadata": {},
   "outputs": [],
   "source": [
    "def rag(query):\n",
    "    search_results = elastic_search(query)\n",
    "    prompt = build_prompt(query, search_results)\n",
    "    return llm(prompt)"
   ]
  },
  {
   "cell_type": "code",
   "execution_count": 9,
   "id": "5f8a8d97-0d79-4e00-9052-888d07353896",
   "metadata": {},
   "outputs": [],
   "source": [
    "es_client = Elasticsearch('http://localhost:9200')\n",
    "es_client.info()\n",
    "es_create_index_if_not_exists(es_client)"
   ]
  },
  {
   "cell_type": "code",
   "execution_count": 10,
   "id": "e13b9b38-7cbf-4e9c-bb60-1b69f636ff8c",
   "metadata": {},
   "outputs": [
    {
     "data": {
      "text/plain": [
       "'Based on your question about joining a course later, here\\'s what I found from our FAQ: Yes, even if you do not register right away after the start date of \"Course-Name\", according to answer #2 in section General Course-Related Questions - You are still eligible to submit homeworks as they may have submissions deadlines and recommendations.\\nHowever, keep track that there might be final projects with specific handover dates. To ensure smooth course participation beyond its official start date: you can always continue working on the homework assignments until their respective completion requirements are met (if any), ensuring timely project turn-in is key to maintain a good academic standing in your program of choice — and thus avoid potentially missing out on valuable learning opportunities that could aid with course success down the road.\\nAdditionally, per answer #3 which also appears under \\'General Course Related Questions\\', post session concludes provisions allow one continued study via saved materials along certain timelines for individual pursuit purposes – so if this resonates more closely to your situation feel free not just sit back await commencing official learning schedule arrival but instead delve deeper into personal academic objectives; engaging oneself actively with all relevant readings assigned thus far within each semester’s curriculum will contribute significantly towards realizing said achievements while fostering skills through self-driven motivation alongside maintaining disciplined study habits throughout subsequent learning periods beyond given course timetable span—furthermore gain insight hereinto what preemptive measures could be considered prior commencing attendance for enhanced educational progression and efficacy across related disciplines associated respectively along respective pathways within specified field(s).\\nSo yes, I think it\\'s possible to join the class even if you discover it later. But do remember that final projects usually have deadlines too; so make sure not to postpone your submissions until they come near expiration time! Also note we keep all course-related materials after completion which allows self-study at own pace beyond specific duration (if applicable). Moreover, reviewing prerequisites & syllabus beforehand could help identify comfort levels with subject matter prior commencing attendance itself thereby setting solid foundation base ready being welcomed into learning environment sooner rather late—ensuring smoother entry point towards academic progression path.'"
      ]
     },
     "execution_count": 10,
     "metadata": {},
     "output_type": "execute_result"
    }
   ],
   "source": [
    "query = 'I just discovered the course, can I still join it?'\n",
    "rag(query)"
   ]
  },
  {
   "cell_type": "code",
   "execution_count": null,
   "id": "b4680653-239c-4467-8d57-e0f28adc7c3a",
   "metadata": {},
   "outputs": [],
   "source": []
  }
 ],
 "metadata": {
  "kernelspec": {
   "display_name": "Python 3 (ipykernel)",
   "language": "python",
   "name": "python3"
  },
  "language_info": {
   "codemirror_mode": {
    "name": "ipython",
    "version": 3
   },
   "file_extension": ".py",
   "mimetype": "text/x-python",
   "name": "python",
   "nbconvert_exporter": "python",
   "pygments_lexer": "ipython3",
   "version": "3.12.1"
  }
 },
 "nbformat": 4,
 "nbformat_minor": 5
}
