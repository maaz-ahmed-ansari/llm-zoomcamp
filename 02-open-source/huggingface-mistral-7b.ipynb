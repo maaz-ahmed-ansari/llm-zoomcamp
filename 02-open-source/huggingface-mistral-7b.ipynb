{
 "cells": [
  {
   "cell_type": "code",
   "execution_count": 1,
   "id": "666a2c9c-d557-48db-b39c-bd69bfdb3c46",
   "metadata": {
    "execution": {
     "iopub.execute_input": "2024-09-17T04:03:04.097343Z",
     "iopub.status.busy": "2024-09-17T04:03:04.097026Z",
     "iopub.status.idle": "2024-09-17T04:03:05.455392Z",
     "shell.execute_reply": "2024-09-17T04:03:05.454678Z",
     "shell.execute_reply.started": "2024-09-17T04:03:04.097322Z"
    }
   },
   "outputs": [
    {
     "name": "stdout",
     "output_type": "stream",
     "text": [
      "--2024-09-17 04:03:05--  https://raw.githubusercontent.com/alexeygrigorev/minsearch/main/minsearch.py\n",
      "Resolving raw.githubusercontent.com (raw.githubusercontent.com)... 185.199.110.133, 185.199.109.133, 185.199.108.133, ...\n",
      "Connecting to raw.githubusercontent.com (raw.githubusercontent.com)|185.199.110.133|:443... connected.\n",
      "HTTP request sent, awaiting response... 200 OK\n",
      "Length: 3832 (3.7K) [text/plain]\n",
      "Saving to: ‘minsearch.py’\n",
      "\n",
      "minsearch.py        100%[===================>]   3.74K  --.-KB/s    in 0s      \n",
      "\n",
      "2024-09-17 04:03:05 (83.4 MB/s) - ‘minsearch.py’ saved [3832/3832]\n",
      "\n"
     ]
    }
   ],
   "source": [
    "!rm -f minsearch.py\n",
    "!wget https://raw.githubusercontent.com/alexeygrigorev/minsearch/main/minsearch.py"
   ]
  },
  {
   "cell_type": "code",
   "execution_count": 2,
   "id": "9d81f049-3f41-4dde-8c68-7c55cd16ad3b",
   "metadata": {
    "execution": {
     "iopub.execute_input": "2024-09-17T04:03:05.457434Z",
     "iopub.status.busy": "2024-09-17T04:03:05.457054Z",
     "iopub.status.idle": "2024-09-17T04:03:05.461177Z",
     "shell.execute_reply": "2024-09-17T04:03:05.460461Z",
     "shell.execute_reply.started": "2024-09-17T04:03:05.457404Z"
    }
   },
   "outputs": [],
   "source": [
    "import os\n",
    "os.environ['HF_HOME'] = '/run/cache/'"
   ]
  },
  {
   "cell_type": "code",
   "execution_count": 3,
   "id": "0c846b77-bd66-4824-94a1-ba1d51dd9a01",
   "metadata": {
    "execution": {
     "iopub.execute_input": "2024-09-16T18:21:51.689353Z",
     "iopub.status.busy": "2024-09-16T18:21:51.689020Z",
     "iopub.status.idle": "2024-09-16T18:21:51.695903Z",
     "shell.execute_reply": "2024-09-16T18:21:51.695237Z",
     "shell.execute_reply.started": "2024-09-16T18:21:51.689329Z"
    }
   },
   "outputs": [
    {
     "data": {
      "text/plain": [
       "'/run/cache/'"
      ]
     },
     "execution_count": 3,
     "metadata": {},
     "output_type": "execute_result"
    }
   ],
   "source": [
    "os.environ.get('HF_HOME')"
   ]
  },
  {
   "cell_type": "code",
   "execution_count": 4,
   "id": "689952e9-20fe-45aa-9d22-668a7491c51b",
   "metadata": {
    "execution": {
     "iopub.execute_input": "2024-09-17T04:03:38.894440Z",
     "iopub.status.busy": "2024-09-17T04:03:38.894099Z",
     "iopub.status.idle": "2024-09-17T04:03:39.751661Z",
     "shell.execute_reply": "2024-09-17T04:03:39.751029Z",
     "shell.execute_reply.started": "2024-09-17T04:03:38.894414Z"
    }
   },
   "outputs": [],
   "source": [
    "import json\n",
    "import minsearch\n",
    "\n",
    "from openai import OpenAI\n",
    "\n",
    "client = OpenAI()"
   ]
  },
  {
   "cell_type": "code",
   "execution_count": 5,
   "id": "f0c8fa8a-b9b8-4f66-94e7-0f4d4a4b909c",
   "metadata": {
    "execution": {
     "iopub.execute_input": "2024-09-17T04:03:41.642559Z",
     "iopub.status.busy": "2024-09-17T04:03:41.642209Z",
     "iopub.status.idle": "2024-09-17T04:03:42.263106Z",
     "shell.execute_reply": "2024-09-17T04:03:42.262454Z",
     "shell.execute_reply.started": "2024-09-17T04:03:41.642536Z"
    }
   },
   "outputs": [
    {
     "data": {
      "text/plain": [
       "<minsearch.Index at 0x7fa21ebf7c50>"
      ]
     },
     "execution_count": 5,
     "metadata": {},
     "output_type": "execute_result"
    }
   ],
   "source": [
    "import requests \n",
    "import json\n",
    "import minsearch\n",
    "\n",
    "docs_url = 'https://github.com/DataTalksClub/llm-zoomcamp/blob/main/01-intro/documents.json?raw=1'\n",
    "docs_response = requests.get(docs_url)\n",
    "documents_raw = docs_response.json()\n",
    "\n",
    "documents = []\n",
    "\n",
    "for course in documents_raw:\n",
    "    course_name = course['course']\n",
    "\n",
    "    for doc in course['documents']:\n",
    "        doc['course'] = course_name\n",
    "        documents.append(doc)\n",
    "\n",
    "index = minsearch.Index(\n",
    "    text_fields=[\"question\", \"text\", \"section\"],\n",
    "    keyword_fields=[\"course\"]\n",
    ")\n",
    "\n",
    "index.fit(documents)"
   ]
  },
  {
   "cell_type": "code",
   "execution_count": 6,
   "id": "5c956457-8ad3-4b47-a06b-608d52e9e5b9",
   "metadata": {
    "execution": {
     "iopub.execute_input": "2024-09-17T04:03:42.911469Z",
     "iopub.status.busy": "2024-09-17T04:03:42.911134Z",
     "iopub.status.idle": "2024-09-17T04:03:42.915275Z",
     "shell.execute_reply": "2024-09-17T04:03:42.914556Z",
     "shell.execute_reply.started": "2024-09-17T04:03:42.911448Z"
    }
   },
   "outputs": [],
   "source": [
    "def search(query):\n",
    "    boost = {'question': 3.0, 'section': 0.5}\n",
    "\n",
    "    results = index.search(\n",
    "        query=query,\n",
    "        filter_dict={'course': 'data-engineering-zoomcamp'},\n",
    "        boost_dict=boost,\n",
    "        num_results=5\n",
    "    )\n",
    "\n",
    "    return results"
   ]
  },
  {
   "cell_type": "code",
   "execution_count": 7,
   "id": "79738d56-c165-45ca-a5d6-1426b78f4b95",
   "metadata": {
    "execution": {
     "iopub.execute_input": "2024-09-17T04:03:43.583860Z",
     "iopub.status.busy": "2024-09-17T04:03:43.583525Z",
     "iopub.status.idle": "2024-09-17T04:03:43.588796Z",
     "shell.execute_reply": "2024-09-17T04:03:43.587968Z",
     "shell.execute_reply.started": "2024-09-17T04:03:43.583838Z"
    }
   },
   "outputs": [],
   "source": [
    "def build_prompt(query, search_results):\n",
    "    prompt_template = \"\"\"\n",
    "    You're a course teaching assistant. Answer the QUESTION based on the CONTEXT from the FAQ database.\n",
    "    Use only the facts from the CONTEXT when answering the QUESTION.\n",
    "    \n",
    "    QUESTION: {question}\n",
    "    \n",
    "    CONTEXT: \n",
    "    {context}\n",
    "    \"\"\".strip()\n",
    "\n",
    "    context = \"\"\n",
    "    \n",
    "    for doc in search_results:\n",
    "        context = context + f\"section: {doc['section']}\\nquestion: {doc['question']}\\nanswer: {doc['text']}\\n\\n\"\n",
    "    \n",
    "    prompt = prompt_template.format(question=query, context=context).strip()\n",
    "    return prompt\n",
    "\n",
    "def llm(prompt):\n",
    "    response = client.chat.completions.create(\n",
    "        model='gpt-4o-mini',\n",
    "        messages=[{\"role\": \"user\", \"content\": prompt}]\n",
    "    )\n",
    "    \n",
    "    return response.choices[0].message.content"
   ]
  },
  {
   "cell_type": "code",
   "execution_count": 8,
   "id": "9f29dd5e-14bd-4db4-8cc7-7762dafc93b6",
   "metadata": {
    "execution": {
     "iopub.execute_input": "2024-09-17T04:03:44.914137Z",
     "iopub.status.busy": "2024-09-17T04:03:44.913792Z",
     "iopub.status.idle": "2024-09-17T04:03:44.917824Z",
     "shell.execute_reply": "2024-09-17T04:03:44.917012Z",
     "shell.execute_reply.started": "2024-09-17T04:03:44.914111Z"
    }
   },
   "outputs": [],
   "source": [
    "def rag(query):\n",
    "    search_results = search(query)\n",
    "    prompt = build_prompt(query, search_results)\n",
    "    answer = llm(prompt)\n",
    "    return answer"
   ]
  },
  {
   "cell_type": "code",
   "execution_count": 26,
   "id": "3ef78910-f483-49e5-84de-5b38f39973b1",
   "metadata": {
    "execution": {
     "iopub.execute_input": "2024-09-16T13:39:07.598828Z",
     "iopub.status.busy": "2024-09-16T13:39:07.598336Z",
     "iopub.status.idle": "2024-09-16T13:39:09.174622Z",
     "shell.execute_reply": "2024-09-16T13:39:09.173946Z",
     "shell.execute_reply.started": "2024-09-16T13:39:07.598791Z"
    }
   },
   "outputs": [
    {
     "name": "stdout",
     "output_type": "stream",
     "text": [
      "To run Kafka in your project, you can use the following command in the terminal for Java Kafka:\n",
      "\n",
      "```bash\n",
      "java -cp build/libs/<jar_name>-1.0-SNAPSHOT.jar:out src/main/java/org/example/JsonProducer.java\n",
      "```\n",
      "\n",
      "If you are using Python, make sure to create a virtual environment and run the necessary requirements. Here’s how you can do it:\n",
      "\n",
      "1. Create a virtual environment and install required packages:\n",
      "   ```bash\n",
      "   python -m venv env\n",
      "   source env/bin/activate  # For MacOS and Linux\n",
      "   pip install -r ../requirements.txt\n",
      "   ```\n",
      "\n",
      "2. To activate the virtual environment, run:\n",
      "   ```bash\n",
      "   source env/bin/activate  # For MacOS and Linux\n",
      "   ```\n",
      "\n",
      "   For Windows, use:\n",
      "   ```bash\n",
      "   env\\Scripts\\activate\n",
      "   ```\n",
      "\n",
      "3. To deactivate the virtual environment when done, run:\n",
      "   ```bash\n",
      "   deactivate\n",
      "   ```\n",
      "\n",
      "Remember that you need to have Docker images up and running if you are using Docker with Kafka.\n"
     ]
    }
   ],
   "source": [
    "query = 'how do I run Kafka?'\n",
    "answer = rag(query)\n",
    "print(answer)"
   ]
  },
  {
   "cell_type": "code",
   "execution_count": null,
   "id": "01931b35-668b-4a7d-8cba-5d43e8c7e0a0",
   "metadata": {},
   "outputs": [],
   "source": []
  },
  {
   "cell_type": "code",
   "execution_count": null,
   "id": "ee81c594-ee71-41bf-95fc-77e678802916",
   "metadata": {},
   "outputs": [],
   "source": []
  },
  {
   "cell_type": "code",
   "execution_count": 14,
   "id": "aac89b3e-4da9-4c4d-b562-68242ec46c67",
   "metadata": {
    "execution": {
     "iopub.execute_input": "2024-09-17T04:21:09.202410Z",
     "iopub.status.busy": "2024-09-17T04:21:09.201923Z",
     "iopub.status.idle": "2024-09-17T04:21:09.208726Z",
     "shell.execute_reply": "2024-09-17T04:21:09.208188Z",
     "shell.execute_reply.started": "2024-09-17T04:21:09.202387Z"
    }
   },
   "outputs": [],
   "source": [
    "from huggingface_hub import login"
   ]
  },
  {
   "cell_type": "code",
   "execution_count": 16,
   "id": "aa56df7c-3ff1-4ba7-b044-45f96edb26f3",
   "metadata": {
    "execution": {
     "iopub.execute_input": "2024-09-17T04:21:46.859166Z",
     "iopub.status.busy": "2024-09-17T04:21:46.858831Z",
     "iopub.status.idle": "2024-09-17T04:21:46.889496Z",
     "shell.execute_reply": "2024-09-17T04:21:46.888936Z",
     "shell.execute_reply.started": "2024-09-17T04:21:46.859144Z"
    }
   },
   "outputs": [
    {
     "name": "stdout",
     "output_type": "stream",
     "text": [
      "The token has not been saved to the git credentials helper. Pass `add_to_git_credential=True` in this function directly or `--add-to-git-credential` if using via `huggingface-cli` if you want to set the git credential as well.\n",
      "Token is valid (permission: read).\n",
      "Your token has been saved to /run/cache/token\n",
      "Login successful\n"
     ]
    }
   ],
   "source": [
    "login(token=os.environ['HF_TOKEN'])"
   ]
  },
  {
   "cell_type": "code",
   "execution_count": 9,
   "id": "d523a98e-2707-4fb6-9e9f-46e803da8fbd",
   "metadata": {
    "execution": {
     "iopub.execute_input": "2024-09-17T04:05:54.075054Z",
     "iopub.status.busy": "2024-09-17T04:05:54.074729Z",
     "iopub.status.idle": "2024-09-17T04:05:57.015451Z",
     "shell.execute_reply": "2024-09-17T04:05:57.014822Z",
     "shell.execute_reply.started": "2024-09-17T04:05:54.075033Z"
    }
   },
   "outputs": [],
   "source": [
    "from transformers import AutoModelForCausalLM\n",
    "from transformers import AutoTokenizer"
   ]
  },
  {
   "cell_type": "code",
   "execution_count": 13,
   "id": "07ff8467-7ead-41d9-a924-56fc48b2476e",
   "metadata": {
    "execution": {
     "iopub.execute_input": "2024-09-17T04:14:59.046039Z",
     "iopub.status.busy": "2024-09-17T04:14:59.045703Z",
     "iopub.status.idle": "2024-09-17T04:18:25.303950Z",
     "shell.execute_reply": "2024-09-17T04:18:25.303324Z",
     "shell.execute_reply.started": "2024-09-17T04:14:59.046017Z"
    }
   },
   "outputs": [
    {
     "data": {
      "application/vnd.jupyter.widget-view+json": {
       "model_id": "0e8697eef260405fa5adf250cc64486d",
       "version_major": 2,
       "version_minor": 0
      },
      "text/plain": [
       "config.json:   0%|          | 0.00/571 [00:00<?, ?B/s]"
      ]
     },
     "metadata": {},
     "output_type": "display_data"
    },
    {
     "name": "stderr",
     "output_type": "stream",
     "text": [
      "The `load_in_4bit` and `load_in_8bit` arguments are deprecated and will be removed in the future versions. Please, pass a `BitsAndBytesConfig` object in `quantization_config` argument instead.\n"
     ]
    },
    {
     "data": {
      "application/vnd.jupyter.widget-view+json": {
       "model_id": "7cf6847866b446ad89f5cd5451d61ea3",
       "version_major": 2,
       "version_minor": 0
      },
      "text/plain": [
       "model.safetensors.index.json:   0%|          | 0.00/25.1k [00:00<?, ?B/s]"
      ]
     },
     "metadata": {},
     "output_type": "display_data"
    },
    {
     "data": {
      "application/vnd.jupyter.widget-view+json": {
       "model_id": "e313f49a91b247beaeb989237f960f23",
       "version_major": 2,
       "version_minor": 0
      },
      "text/plain": [
       "Downloading shards:   0%|          | 0/2 [00:00<?, ?it/s]"
      ]
     },
     "metadata": {},
     "output_type": "display_data"
    },
    {
     "data": {
      "application/vnd.jupyter.widget-view+json": {
       "model_id": "2572069472744b9ea384677ce4d43212",
       "version_major": 2,
       "version_minor": 0
      },
      "text/plain": [
       "model-00001-of-00002.safetensors:   0%|          | 0.00/9.94G [00:00<?, ?B/s]"
      ]
     },
     "metadata": {},
     "output_type": "display_data"
    },
    {
     "data": {
      "application/vnd.jupyter.widget-view+json": {
       "model_id": "12ab3a024a5845ecb60dc1b36dd2dd9b",
       "version_major": 2,
       "version_minor": 0
      },
      "text/plain": [
       "model-00002-of-00002.safetensors:   0%|          | 0.00/4.54G [00:00<?, ?B/s]"
      ]
     },
     "metadata": {},
     "output_type": "display_data"
    },
    {
     "data": {
      "application/vnd.jupyter.widget-view+json": {
       "model_id": "be2bacbfaa584abe8e7d9db8739698b2",
       "version_major": 2,
       "version_minor": 0
      },
      "text/plain": [
       "Loading checkpoint shards:   0%|          | 0/2 [00:00<?, ?it/s]"
      ]
     },
     "metadata": {},
     "output_type": "display_data"
    },
    {
     "data": {
      "application/vnd.jupyter.widget-view+json": {
       "model_id": "b86ca194a1fe49faae6ec26554da9373",
       "version_major": 2,
       "version_minor": 0
      },
      "text/plain": [
       "generation_config.json:   0%|          | 0.00/116 [00:00<?, ?B/s]"
      ]
     },
     "metadata": {},
     "output_type": "display_data"
    },
    {
     "data": {
      "application/vnd.jupyter.widget-view+json": {
       "model_id": "678d61624e9e4d0299cadca599fabbce",
       "version_major": 2,
       "version_minor": 0
      },
      "text/plain": [
       "tokenizer_config.json:   0%|          | 0.00/996 [00:00<?, ?B/s]"
      ]
     },
     "metadata": {},
     "output_type": "display_data"
    },
    {
     "data": {
      "application/vnd.jupyter.widget-view+json": {
       "model_id": "5e4aa94551fa4105afb1be23d58e33be",
       "version_major": 2,
       "version_minor": 0
      },
      "text/plain": [
       "tokenizer.model:   0%|          | 0.00/493k [00:00<?, ?B/s]"
      ]
     },
     "metadata": {},
     "output_type": "display_data"
    },
    {
     "data": {
      "application/vnd.jupyter.widget-view+json": {
       "model_id": "43f3392b215d44549097048291ef3c6c",
       "version_major": 2,
       "version_minor": 0
      },
      "text/plain": [
       "tokenizer.json:   0%|          | 0.00/1.80M [00:00<?, ?B/s]"
      ]
     },
     "metadata": {},
     "output_type": "display_data"
    },
    {
     "data": {
      "application/vnd.jupyter.widget-view+json": {
       "model_id": "724f6d72be284ddf9ff2cc2ed3478ba0",
       "version_major": 2,
       "version_minor": 0
      },
      "text/plain": [
       "special_tokens_map.json:   0%|          | 0.00/414 [00:00<?, ?B/s]"
      ]
     },
     "metadata": {},
     "output_type": "display_data"
    }
   ],
   "source": [
    "model = AutoModelForCausalLM.from_pretrained(\n",
    "    \"mistralai/Mistral-7B-v0.1\", device_map=\"auto\", load_in_4bit=True\n",
    ")\n",
    "\n",
    "tokenizer = AutoTokenizer.from_pretrained(\"mistralai/Mistral-7B-v0.1\", padding_side=\"left\")"
   ]
  },
  {
   "cell_type": "code",
   "execution_count": 27,
   "id": "53c0e47a-f60f-4c97-82e6-934983129158",
   "metadata": {
    "execution": {
     "iopub.execute_input": "2024-09-17T04:55:34.961306Z",
     "iopub.status.busy": "2024-09-17T04:55:34.960975Z",
     "iopub.status.idle": "2024-09-17T04:55:35.574893Z",
     "shell.execute_reply": "2024-09-17T04:55:35.574275Z",
     "shell.execute_reply.started": "2024-09-17T04:55:34.961285Z"
    }
   },
   "outputs": [],
   "source": [
    "from transformers import pipeline\n",
    "generator = pipeline(\"text-generation\", model=model, tokenizer=tokenizer)"
   ]
  },
  {
   "cell_type": "code",
   "execution_count": 30,
   "id": "ea1f0091-5cc0-4bac-8702-af9d71bcfee7",
   "metadata": {
    "execution": {
     "iopub.execute_input": "2024-09-17T04:56:07.929953Z",
     "iopub.status.busy": "2024-09-17T04:56:07.929615Z",
     "iopub.status.idle": "2024-09-17T04:56:07.934731Z",
     "shell.execute_reply": "2024-09-17T04:56:07.933878Z",
     "shell.execute_reply.started": "2024-09-17T04:56:07.929930Z"
    }
   },
   "outputs": [],
   "source": [
    "def build_prompt(query, search_results):\n",
    "    prompt_template = \"\"\"   \n",
    "    QUESTION: {question}\n",
    "    \n",
    "    CONTEXT:\n",
    "    {context}\n",
    "\n",
    "    ANSWER:\n",
    "    \"\"\".strip()\n",
    "\n",
    "    context = \"\"\n",
    "    \n",
    "    for doc in search_results:\n",
    "        context = context + f\"section: {doc['section']}\\nquestion: {doc['question']}\\nanswer: {doc['text']}\\n\\n\"\n",
    "    \n",
    "    prompt = prompt_template.format(question=query, context=context).strip()\n",
    "    return prompt\n",
    "\n",
    "def llm(prompt):\n",
    "    response = generator(prompt, max_length=600, temperature=0.7, top_p=0.95, num_return_sequences=1)\n",
    "    response_final = response[0]['generated_text']\n",
    "    return response_final[len(prompt):].strip()"
   ]
  },
  {
   "cell_type": "code",
   "execution_count": 31,
   "id": "266181f6-37d3-43ea-8207-123580253bd3",
   "metadata": {
    "execution": {
     "iopub.execute_input": "2024-09-17T04:56:13.484066Z",
     "iopub.status.busy": "2024-09-17T04:56:13.483712Z",
     "iopub.status.idle": "2024-09-17T04:56:23.444392Z",
     "shell.execute_reply": "2024-09-17T04:56:23.443673Z",
     "shell.execute_reply.started": "2024-09-17T04:56:13.484040Z"
    }
   },
   "outputs": [
    {
     "name": "stderr",
     "output_type": "stream",
     "text": [
      "Setting `pad_token_id` to `eos_token_id`:2 for open-end generation.\n"
     ]
    },
    {
     "name": "stdout",
     "output_type": "stream",
     "text": [
      "Yes, even if you don't register, you're still eligible to submit the homeworks.\n",
      "    Be aware, however, that there will be deadlines for turning in the final projects. So don't leave everything for the last minute.\n",
      "\n",
      "    Yes, we will keep all the materials after the course finishes, so you can follow the course at your own pace after it finishes.\n",
      "    You can also continue looking at the homeworks and continue preparing for the\n"
     ]
    }
   ],
   "source": [
    "res = rag(\"I just discovered the course. Can I still join it?\")\n",
    "print(res)"
   ]
  },
  {
   "cell_type": "code",
   "execution_count": null,
   "id": "3af81a5b-31f9-406c-be2f-b181d28fc257",
   "metadata": {},
   "outputs": [],
   "source": []
  }
 ],
 "metadata": {
  "kernelspec": {
   "display_name": "saturn (Python 3)",
   "language": "python",
   "name": "python3"
  },
  "language_info": {
   "codemirror_mode": {
    "name": "ipython",
    "version": 3
   },
   "file_extension": ".py",
   "mimetype": "text/x-python",
   "name": "python",
   "nbconvert_exporter": "python",
   "pygments_lexer": "ipython3",
   "version": "3.11.9"
  }
 },
 "nbformat": 4,
 "nbformat_minor": 5
}
